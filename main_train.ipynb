{
 "cells": [
  {
   "cell_type": "code",
   "execution_count": 2,
   "metadata": {},
   "outputs": [],
   "source": [
    "import os\n",
    "import numpy as np\n",
    "import tensorflow as tf\n",
    "from tensorflow.keras import layers, models"
   ]
  },
  {
   "cell_type": "code",
   "execution_count": 3,
   "metadata": {},
   "outputs": [],
   "source": [
    "# Log-ratio transformations\n",
    "def clr_inv(p):\n",
    "    z = tf.math.log(p)\n",
    "    return z - tf.reduce_mean(z, axis=1)[:, tf.newaxis]\n",
    "\n",
    "def clr_forward(z, axis=1):\n",
    "    return tf.nn.softmax(z, axis=axis)"
   ]
  },
  {
   "cell_type": "code",
   "execution_count": 4,
   "metadata": {},
   "outputs": [],
   "source": [
    "# WideResNet Architecture\n",
    "def wide_resnet(num_classes, depth=28, width=2):\n",
    "    inputs = tf.keras.Input(shape=(32, 32, 3))\n",
    "    x = layers.Conv2D(16, (3, 3), padding=\"same\")(inputs)\n",
    "    for _ in range(depth // 6):\n",
    "        x = layers.Conv2D(16 * width, (3, 3), padding=\"same\")(x)\n",
    "        x = layers.BatchNormalization()(x)\n",
    "        x = tf.nn.relu(x)\n",
    "    x = layers.GlobalAveragePooling2D()(x)\n",
    "    outputs = layers.Dense(num_classes)(x)\n",
    "    return models.Model(inputs, outputs)"
   ]
  },
  {
   "cell_type": "code",
   "execution_count": 5,
   "metadata": {},
   "outputs": [],
   "source": [
    "# Dataset loader combining TF CIFAR datasets with custom labels\n",
    "def load_combined_dataset(cifar_version, label_file, num_classes):\n",
    "    \"\"\"\n",
    "    Combine CIFAR image data from TensorFlow with labels from a .npy file.\n",
    "\n",
    "    Args:\n",
    "        cifar_version (str): \"cifar10\" or \"cifar100\" to select the dataset.\n",
    "        label_file (str): Path to the .npy file containing labels.\n",
    "        num_classes (int): Number of classes (10 or 100).\n",
    "\n",
    "    Returns:\n",
    "        tf.data.Dataset: Dataset ready for training/testing.\n",
    "    \"\"\"\n",
    "    # Load image data\n",
    "    if cifar_version == \"cifar10\":\n",
    "        (x_train, _), _ = tf.keras.datasets.cifar10.load_data()\n",
    "    elif cifar_version == \"cifar100\":\n",
    "        (x_train, _), _ = tf.keras.datasets.cifar100.load_data()\n",
    "    else:\n",
    "        raise ValueError(\"cifar_version must be 'cifar10' or 'cifar100'.\")\n",
    "\n",
    "    # Load labels from .npy file\n",
    "    label_data = np.load(label_file, allow_pickle=True).item()\n",
    "    if 'clean_label' not in label_data:\n",
    "        raise ValueError(\"Label file must contain 'clean_label' key.\")\n",
    "\n",
    "    # Normalize image data and convert labels\n",
    "    x_train = x_train.astype(np.float32) / 255.0\n",
    "    y_train = tf.keras.utils.to_categorical(label_data['clean_label'], num_classes)\n",
    "\n",
    "    # Create TensorFlow dataset\n",
    "    train_ds = tf.data.Dataset.from_tensor_slices((x_train, y_train))\n",
    "    train_ds = train_ds.shuffle(10000).batch(64)\n",
    "    return train_ds"
   ]
  },
  {
   "cell_type": "code",
   "execution_count": 6,
   "metadata": {},
   "outputs": [],
   "source": [
    "# Gaussian noise (manual implementation)\n",
    "def add_gaussian_noise(inputs, mean=0.0, stddev=0.1):\n",
    "    noise = tf.random.normal(shape=tf.shape(inputs), mean=mean, stddev=stddev)\n",
    "    return inputs + noise"
   ]
  },
  {
   "cell_type": "code",
   "execution_count": 7,
   "metadata": {},
   "outputs": [],
   "source": [
    "# Training step\n",
    "@tf.function\n",
    "def train_step(model, images, labels, optimizer):\n",
    "    with tf.GradientTape() as tape:\n",
    "        logits = model(images, training=True)\n",
    "        smoothed_targets = clr_forward(labels)\n",
    "        logit_targets = clr_inv(smoothed_targets)\n",
    "        loss = tf.reduce_mean(tf.keras.losses.categorical_crossentropy(logit_targets, logits))\n",
    "    gradients = tape.gradient(loss, model.trainable_variables)\n",
    "    optimizer.apply_gradients(zip(gradients, model.trainable_variables))\n",
    "    return loss\n",
    "\n",
    "# Training loop\n",
    "def train_model(train_ds, epochs=10, num_classes=10):\n",
    "    model = wide_resnet(num_classes)\n",
    "    optimizer = tf.keras.optimizers.Adam(learning_rate=0.001)\n",
    "\n",
    "    for epoch in range(epochs):\n",
    "        print(f\"Epoch {epoch + 1}/{epochs}\")\n",
    "        for step, (images, labels) in enumerate(train_ds):\n",
    "            # Optionally, add Gaussian noise during training\n",
    "            images = add_gaussian_noise(images)\n",
    "            loss = train_step(model, images, labels, optimizer)\n",
    "            if step % 10 == 0:\n",
    "                print(f\"Step {step}, Loss: {loss.numpy()}\")\n",
    "\n",
    "        # Save checkpoint\n",
    "        os.makedirs(\"checkpoints\", exist_ok=True)\n",
    "        model.save_weights(f\"checkpoints/sgn_epoch_{epoch}.ckpt\")\n",
    "        print(f\"Checkpoint saved for epoch {epoch + 1}\")"
   ]
  },
  {
   "cell_type": "code",
   "execution_count": null,
   "metadata": {},
   "outputs": [],
   "source": [
    "if __name__ == \"__main__\":\n",
    "    # Paths to label files\n",
    "    cifar10_label_file = \"./data/CIFAR-10_human_ordered.npy\"\n",
    "    cifar100_label_file = \"./data/CIFAR-100_human_ordered.npy\"\n",
    "\n",
    "    # Load CIFAR-10 dataset for training\n",
    "    train_ds_cifar10 = load_combined_dataset(\"cifar10\", cifar10_label_file, num_classes=10)\n",
    "\n",
    "    # Train on CIFAR-10 (CIFAR-100 can be loaded similarly)\n",
    "    train_model(train_ds_cifar10, epochs=10, num_classes=10)"
   ]
  }
 ],
 "metadata": {
  "kernelspec": {
   "display_name": "Python 3",
   "language": "python",
   "name": "python3"
  },
  "language_info": {
   "codemirror_mode": {
    "name": "ipython",
    "version": 3
   },
   "file_extension": ".py",
   "mimetype": "text/x-python",
   "name": "python",
   "nbconvert_exporter": "python",
   "pygments_lexer": "ipython3",
   "version": "3.12.2"
  }
 },
 "nbformat": 4,
 "nbformat_minor": 2
}
